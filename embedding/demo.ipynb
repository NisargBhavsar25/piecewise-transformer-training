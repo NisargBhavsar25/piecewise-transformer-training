{
 "cells": [
  {
   "cell_type": "code",
   "execution_count": 1,
   "metadata": {},
   "outputs": [
    {
     "data": {
      "text/plain": [
       "<All keys matched successfully>"
      ]
     },
     "execution_count": 1,
     "metadata": {},
     "output_type": "execute_result"
    }
   ],
   "source": [
    "import sys\n",
    "sys.path.append('../')\n",
    "from modules import EmbeddingModel, Tokenizer\n",
    "import torch\n",
    "\n",
    "with open('../ptbdataset/ptb.train.txt', 'r', encoding='UTF-8') as file:\n",
    "    train_text = file.readlines()\n",
    "tokenizer = Tokenizer(train_text)\n",
    "vocab_size = tokenizer.vocab_size()  # Adjust as needed\n",
    "d_model = 256\n",
    "# load the model\n",
    "model = EmbeddingModel(vocab_size=vocab_size, d_model=d_model)\n",
    "model.load_state_dict(torch.load('embedding_model.pth'))"
   ]
  },
  {
   "cell_type": "code",
   "execution_count": 5,
   "metadata": {},
   "outputs": [
    {
     "name": "stdout",
     "output_type": "stream",
     "text": [
      "Input: there is a very high probablity that i\n",
      "Output: there is a very high <unk> that i <unk> <unk> <unk> <unk> <unk> <unk> <unk> <unk> <unk> <unk> <unk> <unk> <unk> <unk> <unk> <unk> <unk> <unk> <unk> <unk> <unk> <unk> <unk> <unk> <unk> <unk> <unk> <unk> <unk> <unk> <unk> <unk> <unk> <unk> <unk> <unk> <unk> <unk> <unk> <unk> <unk> <unk> <unk> <unk> <unk> <unk> <unk> <unk> <unk> <unk> <unk> <unk> <unk> <unk> <unk> <unk> <unk> <unk> <unk> <unk> <unk> <unk> <unk> <unk> <unk> <unk> <unk> <unk> <unk> <unk> <unk> <unk> <unk> <unk>\n"
     ]
    }
   ],
   "source": [
    "input = 'there is a very high probablity that i'\n",
    "tokens = torch.LongTensor(tokenizer.encode(input)).unsqueeze(0)\n",
    "output = tokenizer.decode(model.generate_text(tokens).squeeze(0)).split(' ')\n",
    "output = ' '.join([word for word in output if word not in ['<pad>', '<eos>']])\n",
    "\n",
    "print(f\"Input: {input}\")\n",
    "print(f\"Output: {output}\")"
   ]
  }
 ],
 "metadata": {
  "kernelspec": {
   "display_name": "btp",
   "language": "python",
   "name": "python3"
  },
  "language_info": {
   "codemirror_mode": {
    "name": "ipython",
    "version": 3
   },
   "file_extension": ".py",
   "mimetype": "text/x-python",
   "name": "python",
   "nbconvert_exporter": "python",
   "pygments_lexer": "ipython3",
   "version": "3.8.19"
  }
 },
 "nbformat": 4,
 "nbformat_minor": 2
}
